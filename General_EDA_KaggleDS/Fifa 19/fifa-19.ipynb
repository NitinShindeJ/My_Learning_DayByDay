{
 "cells": [
  {
   "cell_type": "markdown",
   "metadata": {},
   "source": [
    "# FIFA-19 EDA"
   ]
  },
  {
   "cell_type": "markdown",
   "metadata": {},
   "source": [
    "FIFA 19 is a football simulation video game developed by EA Vancouver as part of Electronic Arts' FIFA series. As with FIFA 18, Cristiano Ronaldo initially as the cover athlete of the regular edition: however, following his unanticipated transfer from Spanish club Real Madrid to Italian side Juventus, new cover art was released, featuring Neymar, Kevin De Bruyne and Paulo Dybala.\n",
    "\n",
    "The game features the UEFA club competitions for the first time, including the UEFA Champions League and UEFA Europa League."
   ]
  },
  {
   "cell_type": "markdown",
   "metadata": {},
   "source": [
    "# Importing Essentials"
   ]
  },
  {
   "cell_type": "code",
   "execution_count": 1,
   "metadata": {},
   "outputs": [],
   "source": [
    "# This Python 3 environment comes with many helpful analytics libraries installed\n",
    "# It is defined by the kaggle/python Docker image: https://github.com/kaggle/docker-python\n",
    "# Input data files are available in the read-only \"../input/\" directory\n",
    "# For example, running this (by clicking run or pressing Shift+Enter) will list all files under the input directory\n",
    "\n",
    "import os\n",
    "for dirname, _, filenames in os.walk('/kaggle/input'):\n",
    "    for filename in filenames:\n",
    "        print(os.path.join(dirname, filename))\n",
    "\n",
    "# You can write up to 5GB to the current directory (/kaggle/working/) that gets preserved as output when you create a version using \"Save & Run All\" \n",
    "# You can also write temporary files to /kaggle/temp/, but they won't be saved outside of the current session"
   ]
  },
  {
   "cell_type": "code",
   "execution_count": 8,
   "metadata": {},
   "outputs": [],
   "source": [
    "### Local Directory if kaggle not worked\n",
    "#print(os.getcwd())\n",
    "os.chdir('C:\\\\Users\\\\shinde.ni\\\\Desktop\\\\Git Dict\\\\My_Learnings\\\\General EDA of Kaggle DS\\\\Fifa 19')\n",
    "#print(os.getcwd())"
   ]
  },
  {
   "cell_type": "code",
   "execution_count": 2,
   "metadata": {},
   "outputs": [],
   "source": [
    "import numpy as np\n",
    "import pandas as pd\n",
    "import matplotlib.pyplot as plt\n",
    "import seaborn as sns\n",
    "sns.set_style('whitegrid')"
   ]
  },
  {
   "cell_type": "code",
   "execution_count": 3,
   "metadata": {},
   "outputs": [],
   "source": [
    "import warnings\n",
    "warnings.filterwarnings(\"ignore\")"
   ]
  },
  {
   "cell_type": "markdown",
   "metadata": {},
   "source": [
    "# The data"
   ]
  },
  {
   "cell_type": "code",
   "execution_count": 5,
   "metadata": {},
   "outputs": [
    {
     "ename": "FileNotFoundError",
     "evalue": "[Errno 2] File b'/Fifa 19/data.csv' does not exist: b'/Fifa 19/data.csv'",
     "output_type": "error",
     "traceback": [
      "\u001b[1;31m---------------------------------------------------------------------------\u001b[0m",
      "\u001b[1;31mFileNotFoundError\u001b[0m                         Traceback (most recent call last)",
      "\u001b[1;32m<ipython-input-5-7631a4b7956d>\u001b[0m in \u001b[0;36m<module>\u001b[1;34m\u001b[0m\n\u001b[0;32m      1\u001b[0m \u001b[1;31m#For Kaggle\u001b[0m\u001b[1;33m\u001b[0m\u001b[1;33m\u001b[0m\u001b[1;33m\u001b[0m\u001b[0m\n\u001b[1;32m----> 2\u001b[1;33m \u001b[0mdf\u001b[0m\u001b[1;33m=\u001b[0m\u001b[0mpd\u001b[0m\u001b[1;33m.\u001b[0m\u001b[0mread_csv\u001b[0m\u001b[1;33m(\u001b[0m\u001b[1;34m'/Fifa 19/data.csv'\u001b[0m\u001b[1;33m)\u001b[0m\u001b[1;33m\u001b[0m\u001b[1;33m\u001b[0m\u001b[0m\n\u001b[0m",
      "\u001b[1;32m~\\AppData\\Local\\Continuum\\anaconda3\\lib\\site-packages\\pandas\\io\\parsers.py\u001b[0m in \u001b[0;36mparser_f\u001b[1;34m(filepath_or_buffer, sep, delimiter, header, names, index_col, usecols, squeeze, prefix, mangle_dupe_cols, dtype, engine, converters, true_values, false_values, skipinitialspace, skiprows, skipfooter, nrows, na_values, keep_default_na, na_filter, verbose, skip_blank_lines, parse_dates, infer_datetime_format, keep_date_col, date_parser, dayfirst, cache_dates, iterator, chunksize, compression, thousands, decimal, lineterminator, quotechar, quoting, doublequote, escapechar, comment, encoding, dialect, error_bad_lines, warn_bad_lines, delim_whitespace, low_memory, memory_map, float_precision)\u001b[0m\n\u001b[0;32m    683\u001b[0m         )\n\u001b[0;32m    684\u001b[0m \u001b[1;33m\u001b[0m\u001b[0m\n\u001b[1;32m--> 685\u001b[1;33m         \u001b[1;32mreturn\u001b[0m \u001b[0m_read\u001b[0m\u001b[1;33m(\u001b[0m\u001b[0mfilepath_or_buffer\u001b[0m\u001b[1;33m,\u001b[0m \u001b[0mkwds\u001b[0m\u001b[1;33m)\u001b[0m\u001b[1;33m\u001b[0m\u001b[1;33m\u001b[0m\u001b[0m\n\u001b[0m\u001b[0;32m    686\u001b[0m \u001b[1;33m\u001b[0m\u001b[0m\n\u001b[0;32m    687\u001b[0m     \u001b[0mparser_f\u001b[0m\u001b[1;33m.\u001b[0m\u001b[0m__name__\u001b[0m \u001b[1;33m=\u001b[0m \u001b[0mname\u001b[0m\u001b[1;33m\u001b[0m\u001b[1;33m\u001b[0m\u001b[0m\n",
      "\u001b[1;32m~\\AppData\\Local\\Continuum\\anaconda3\\lib\\site-packages\\pandas\\io\\parsers.py\u001b[0m in \u001b[0;36m_read\u001b[1;34m(filepath_or_buffer, kwds)\u001b[0m\n\u001b[0;32m    455\u001b[0m \u001b[1;33m\u001b[0m\u001b[0m\n\u001b[0;32m    456\u001b[0m     \u001b[1;31m# Create the parser.\u001b[0m\u001b[1;33m\u001b[0m\u001b[1;33m\u001b[0m\u001b[1;33m\u001b[0m\u001b[0m\n\u001b[1;32m--> 457\u001b[1;33m     \u001b[0mparser\u001b[0m \u001b[1;33m=\u001b[0m \u001b[0mTextFileReader\u001b[0m\u001b[1;33m(\u001b[0m\u001b[0mfp_or_buf\u001b[0m\u001b[1;33m,\u001b[0m \u001b[1;33m**\u001b[0m\u001b[0mkwds\u001b[0m\u001b[1;33m)\u001b[0m\u001b[1;33m\u001b[0m\u001b[1;33m\u001b[0m\u001b[0m\n\u001b[0m\u001b[0;32m    458\u001b[0m \u001b[1;33m\u001b[0m\u001b[0m\n\u001b[0;32m    459\u001b[0m     \u001b[1;32mif\u001b[0m \u001b[0mchunksize\u001b[0m \u001b[1;32mor\u001b[0m \u001b[0miterator\u001b[0m\u001b[1;33m:\u001b[0m\u001b[1;33m\u001b[0m\u001b[1;33m\u001b[0m\u001b[0m\n",
      "\u001b[1;32m~\\AppData\\Local\\Continuum\\anaconda3\\lib\\site-packages\\pandas\\io\\parsers.py\u001b[0m in \u001b[0;36m__init__\u001b[1;34m(self, f, engine, **kwds)\u001b[0m\n\u001b[0;32m    893\u001b[0m             \u001b[0mself\u001b[0m\u001b[1;33m.\u001b[0m\u001b[0moptions\u001b[0m\u001b[1;33m[\u001b[0m\u001b[1;34m\"has_index_names\"\u001b[0m\u001b[1;33m]\u001b[0m \u001b[1;33m=\u001b[0m \u001b[0mkwds\u001b[0m\u001b[1;33m[\u001b[0m\u001b[1;34m\"has_index_names\"\u001b[0m\u001b[1;33m]\u001b[0m\u001b[1;33m\u001b[0m\u001b[1;33m\u001b[0m\u001b[0m\n\u001b[0;32m    894\u001b[0m \u001b[1;33m\u001b[0m\u001b[0m\n\u001b[1;32m--> 895\u001b[1;33m         \u001b[0mself\u001b[0m\u001b[1;33m.\u001b[0m\u001b[0m_make_engine\u001b[0m\u001b[1;33m(\u001b[0m\u001b[0mself\u001b[0m\u001b[1;33m.\u001b[0m\u001b[0mengine\u001b[0m\u001b[1;33m)\u001b[0m\u001b[1;33m\u001b[0m\u001b[1;33m\u001b[0m\u001b[0m\n\u001b[0m\u001b[0;32m    896\u001b[0m \u001b[1;33m\u001b[0m\u001b[0m\n\u001b[0;32m    897\u001b[0m     \u001b[1;32mdef\u001b[0m \u001b[0mclose\u001b[0m\u001b[1;33m(\u001b[0m\u001b[0mself\u001b[0m\u001b[1;33m)\u001b[0m\u001b[1;33m:\u001b[0m\u001b[1;33m\u001b[0m\u001b[1;33m\u001b[0m\u001b[0m\n",
      "\u001b[1;32m~\\AppData\\Local\\Continuum\\anaconda3\\lib\\site-packages\\pandas\\io\\parsers.py\u001b[0m in \u001b[0;36m_make_engine\u001b[1;34m(self, engine)\u001b[0m\n\u001b[0;32m   1133\u001b[0m     \u001b[1;32mdef\u001b[0m \u001b[0m_make_engine\u001b[0m\u001b[1;33m(\u001b[0m\u001b[0mself\u001b[0m\u001b[1;33m,\u001b[0m \u001b[0mengine\u001b[0m\u001b[1;33m=\u001b[0m\u001b[1;34m\"c\"\u001b[0m\u001b[1;33m)\u001b[0m\u001b[1;33m:\u001b[0m\u001b[1;33m\u001b[0m\u001b[1;33m\u001b[0m\u001b[0m\n\u001b[0;32m   1134\u001b[0m         \u001b[1;32mif\u001b[0m \u001b[0mengine\u001b[0m \u001b[1;33m==\u001b[0m \u001b[1;34m\"c\"\u001b[0m\u001b[1;33m:\u001b[0m\u001b[1;33m\u001b[0m\u001b[1;33m\u001b[0m\u001b[0m\n\u001b[1;32m-> 1135\u001b[1;33m             \u001b[0mself\u001b[0m\u001b[1;33m.\u001b[0m\u001b[0m_engine\u001b[0m \u001b[1;33m=\u001b[0m \u001b[0mCParserWrapper\u001b[0m\u001b[1;33m(\u001b[0m\u001b[0mself\u001b[0m\u001b[1;33m.\u001b[0m\u001b[0mf\u001b[0m\u001b[1;33m,\u001b[0m \u001b[1;33m**\u001b[0m\u001b[0mself\u001b[0m\u001b[1;33m.\u001b[0m\u001b[0moptions\u001b[0m\u001b[1;33m)\u001b[0m\u001b[1;33m\u001b[0m\u001b[1;33m\u001b[0m\u001b[0m\n\u001b[0m\u001b[0;32m   1136\u001b[0m         \u001b[1;32melse\u001b[0m\u001b[1;33m:\u001b[0m\u001b[1;33m\u001b[0m\u001b[1;33m\u001b[0m\u001b[0m\n\u001b[0;32m   1137\u001b[0m             \u001b[1;32mif\u001b[0m \u001b[0mengine\u001b[0m \u001b[1;33m==\u001b[0m \u001b[1;34m\"python\"\u001b[0m\u001b[1;33m:\u001b[0m\u001b[1;33m\u001b[0m\u001b[1;33m\u001b[0m\u001b[0m\n",
      "\u001b[1;32m~\\AppData\\Local\\Continuum\\anaconda3\\lib\\site-packages\\pandas\\io\\parsers.py\u001b[0m in \u001b[0;36m__init__\u001b[1;34m(self, src, **kwds)\u001b[0m\n\u001b[0;32m   1915\u001b[0m         \u001b[0mkwds\u001b[0m\u001b[1;33m[\u001b[0m\u001b[1;34m\"usecols\"\u001b[0m\u001b[1;33m]\u001b[0m \u001b[1;33m=\u001b[0m \u001b[0mself\u001b[0m\u001b[1;33m.\u001b[0m\u001b[0musecols\u001b[0m\u001b[1;33m\u001b[0m\u001b[1;33m\u001b[0m\u001b[0m\n\u001b[0;32m   1916\u001b[0m \u001b[1;33m\u001b[0m\u001b[0m\n\u001b[1;32m-> 1917\u001b[1;33m         \u001b[0mself\u001b[0m\u001b[1;33m.\u001b[0m\u001b[0m_reader\u001b[0m \u001b[1;33m=\u001b[0m \u001b[0mparsers\u001b[0m\u001b[1;33m.\u001b[0m\u001b[0mTextReader\u001b[0m\u001b[1;33m(\u001b[0m\u001b[0msrc\u001b[0m\u001b[1;33m,\u001b[0m \u001b[1;33m**\u001b[0m\u001b[0mkwds\u001b[0m\u001b[1;33m)\u001b[0m\u001b[1;33m\u001b[0m\u001b[1;33m\u001b[0m\u001b[0m\n\u001b[0m\u001b[0;32m   1918\u001b[0m         \u001b[0mself\u001b[0m\u001b[1;33m.\u001b[0m\u001b[0munnamed_cols\u001b[0m \u001b[1;33m=\u001b[0m \u001b[0mself\u001b[0m\u001b[1;33m.\u001b[0m\u001b[0m_reader\u001b[0m\u001b[1;33m.\u001b[0m\u001b[0munnamed_cols\u001b[0m\u001b[1;33m\u001b[0m\u001b[1;33m\u001b[0m\u001b[0m\n\u001b[0;32m   1919\u001b[0m \u001b[1;33m\u001b[0m\u001b[0m\n",
      "\u001b[1;32mpandas\\_libs\\parsers.pyx\u001b[0m in \u001b[0;36mpandas._libs.parsers.TextReader.__cinit__\u001b[1;34m()\u001b[0m\n",
      "\u001b[1;32mpandas\\_libs\\parsers.pyx\u001b[0m in \u001b[0;36mpandas._libs.parsers.TextReader._setup_parser_source\u001b[1;34m()\u001b[0m\n",
      "\u001b[1;31mFileNotFoundError\u001b[0m: [Errno 2] File b'/Fifa 19/data.csv' does not exist: b'/Fifa 19/data.csv'"
     ]
    }
   ],
   "source": [
    "#For Kaggle \n",
    "df=pd.read_csv('/kaggle/input/fifa19/data.csv')"
   ]
  },
  {
   "cell_type": "code",
   "execution_count": 49,
   "metadata": {},
   "outputs": [],
   "source": [
    "#For Local \n",
    "df=pd.read_csv('data.csv')"
   ]
  },
  {
   "cell_type": "code",
   "execution_count": 10,
   "metadata": {},
   "outputs": [
    {
     "data": {
      "text/html": [
       "<div>\n",
       "<style scoped>\n",
       "    .dataframe tbody tr th:only-of-type {\n",
       "        vertical-align: middle;\n",
       "    }\n",
       "\n",
       "    .dataframe tbody tr th {\n",
       "        vertical-align: top;\n",
       "    }\n",
       "\n",
       "    .dataframe thead th {\n",
       "        text-align: right;\n",
       "    }\n",
       "</style>\n",
       "<table border=\"1\" class=\"dataframe\">\n",
       "  <thead>\n",
       "    <tr style=\"text-align: right;\">\n",
       "      <th></th>\n",
       "      <th>Unnamed: 0</th>\n",
       "      <th>ID</th>\n",
       "      <th>Name</th>\n",
       "      <th>Age</th>\n",
       "      <th>Photo</th>\n",
       "      <th>Nationality</th>\n",
       "      <th>Flag</th>\n",
       "      <th>Overall</th>\n",
       "      <th>Potential</th>\n",
       "      <th>Club</th>\n",
       "      <th>...</th>\n",
       "      <th>Composure</th>\n",
       "      <th>Marking</th>\n",
       "      <th>StandingTackle</th>\n",
       "      <th>SlidingTackle</th>\n",
       "      <th>GKDiving</th>\n",
       "      <th>GKHandling</th>\n",
       "      <th>GKKicking</th>\n",
       "      <th>GKPositioning</th>\n",
       "      <th>GKReflexes</th>\n",
       "      <th>Release Clause</th>\n",
       "    </tr>\n",
       "  </thead>\n",
       "  <tbody>\n",
       "    <tr>\n",
       "      <td>0</td>\n",
       "      <td>0</td>\n",
       "      <td>158023</td>\n",
       "      <td>L. Messi</td>\n",
       "      <td>31</td>\n",
       "      <td>https://cdn.sofifa.org/players/4/19/158023.png</td>\n",
       "      <td>Argentina</td>\n",
       "      <td>https://cdn.sofifa.org/flags/52.png</td>\n",
       "      <td>94</td>\n",
       "      <td>94</td>\n",
       "      <td>FC Barcelona</td>\n",
       "      <td>...</td>\n",
       "      <td>96.0</td>\n",
       "      <td>33.0</td>\n",
       "      <td>28.0</td>\n",
       "      <td>26.0</td>\n",
       "      <td>6.0</td>\n",
       "      <td>11.0</td>\n",
       "      <td>15.0</td>\n",
       "      <td>14.0</td>\n",
       "      <td>8.0</td>\n",
       "      <td>€226.5M</td>\n",
       "    </tr>\n",
       "    <tr>\n",
       "      <td>1</td>\n",
       "      <td>1</td>\n",
       "      <td>20801</td>\n",
       "      <td>Cristiano Ronaldo</td>\n",
       "      <td>33</td>\n",
       "      <td>https://cdn.sofifa.org/players/4/19/20801.png</td>\n",
       "      <td>Portugal</td>\n",
       "      <td>https://cdn.sofifa.org/flags/38.png</td>\n",
       "      <td>94</td>\n",
       "      <td>94</td>\n",
       "      <td>Juventus</td>\n",
       "      <td>...</td>\n",
       "      <td>95.0</td>\n",
       "      <td>28.0</td>\n",
       "      <td>31.0</td>\n",
       "      <td>23.0</td>\n",
       "      <td>7.0</td>\n",
       "      <td>11.0</td>\n",
       "      <td>15.0</td>\n",
       "      <td>14.0</td>\n",
       "      <td>11.0</td>\n",
       "      <td>€127.1M</td>\n",
       "    </tr>\n",
       "    <tr>\n",
       "      <td>2</td>\n",
       "      <td>2</td>\n",
       "      <td>190871</td>\n",
       "      <td>Neymar Jr</td>\n",
       "      <td>26</td>\n",
       "      <td>https://cdn.sofifa.org/players/4/19/190871.png</td>\n",
       "      <td>Brazil</td>\n",
       "      <td>https://cdn.sofifa.org/flags/54.png</td>\n",
       "      <td>92</td>\n",
       "      <td>93</td>\n",
       "      <td>Paris Saint-Germain</td>\n",
       "      <td>...</td>\n",
       "      <td>94.0</td>\n",
       "      <td>27.0</td>\n",
       "      <td>24.0</td>\n",
       "      <td>33.0</td>\n",
       "      <td>9.0</td>\n",
       "      <td>9.0</td>\n",
       "      <td>15.0</td>\n",
       "      <td>15.0</td>\n",
       "      <td>11.0</td>\n",
       "      <td>€228.1M</td>\n",
       "    </tr>\n",
       "    <tr>\n",
       "      <td>3</td>\n",
       "      <td>3</td>\n",
       "      <td>193080</td>\n",
       "      <td>De Gea</td>\n",
       "      <td>27</td>\n",
       "      <td>https://cdn.sofifa.org/players/4/19/193080.png</td>\n",
       "      <td>Spain</td>\n",
       "      <td>https://cdn.sofifa.org/flags/45.png</td>\n",
       "      <td>91</td>\n",
       "      <td>93</td>\n",
       "      <td>Manchester United</td>\n",
       "      <td>...</td>\n",
       "      <td>68.0</td>\n",
       "      <td>15.0</td>\n",
       "      <td>21.0</td>\n",
       "      <td>13.0</td>\n",
       "      <td>90.0</td>\n",
       "      <td>85.0</td>\n",
       "      <td>87.0</td>\n",
       "      <td>88.0</td>\n",
       "      <td>94.0</td>\n",
       "      <td>€138.6M</td>\n",
       "    </tr>\n",
       "    <tr>\n",
       "      <td>4</td>\n",
       "      <td>4</td>\n",
       "      <td>192985</td>\n",
       "      <td>K. De Bruyne</td>\n",
       "      <td>27</td>\n",
       "      <td>https://cdn.sofifa.org/players/4/19/192985.png</td>\n",
       "      <td>Belgium</td>\n",
       "      <td>https://cdn.sofifa.org/flags/7.png</td>\n",
       "      <td>91</td>\n",
       "      <td>92</td>\n",
       "      <td>Manchester City</td>\n",
       "      <td>...</td>\n",
       "      <td>88.0</td>\n",
       "      <td>68.0</td>\n",
       "      <td>58.0</td>\n",
       "      <td>51.0</td>\n",
       "      <td>15.0</td>\n",
       "      <td>13.0</td>\n",
       "      <td>5.0</td>\n",
       "      <td>10.0</td>\n",
       "      <td>13.0</td>\n",
       "      <td>€196.4M</td>\n",
       "    </tr>\n",
       "  </tbody>\n",
       "</table>\n",
       "<p>5 rows × 89 columns</p>\n",
       "</div>"
      ],
      "text/plain": [
       "   Unnamed: 0      ID               Name  Age  \\\n",
       "0           0  158023           L. Messi   31   \n",
       "1           1   20801  Cristiano Ronaldo   33   \n",
       "2           2  190871          Neymar Jr   26   \n",
       "3           3  193080             De Gea   27   \n",
       "4           4  192985       K. De Bruyne   27   \n",
       "\n",
       "                                            Photo Nationality  \\\n",
       "0  https://cdn.sofifa.org/players/4/19/158023.png   Argentina   \n",
       "1   https://cdn.sofifa.org/players/4/19/20801.png    Portugal   \n",
       "2  https://cdn.sofifa.org/players/4/19/190871.png      Brazil   \n",
       "3  https://cdn.sofifa.org/players/4/19/193080.png       Spain   \n",
       "4  https://cdn.sofifa.org/players/4/19/192985.png     Belgium   \n",
       "\n",
       "                                  Flag  Overall  Potential  \\\n",
       "0  https://cdn.sofifa.org/flags/52.png       94         94   \n",
       "1  https://cdn.sofifa.org/flags/38.png       94         94   \n",
       "2  https://cdn.sofifa.org/flags/54.png       92         93   \n",
       "3  https://cdn.sofifa.org/flags/45.png       91         93   \n",
       "4   https://cdn.sofifa.org/flags/7.png       91         92   \n",
       "\n",
       "                  Club  ... Composure Marking StandingTackle  SlidingTackle  \\\n",
       "0         FC Barcelona  ...      96.0    33.0           28.0           26.0   \n",
       "1             Juventus  ...      95.0    28.0           31.0           23.0   \n",
       "2  Paris Saint-Germain  ...      94.0    27.0           24.0           33.0   \n",
       "3    Manchester United  ...      68.0    15.0           21.0           13.0   \n",
       "4      Manchester City  ...      88.0    68.0           58.0           51.0   \n",
       "\n",
       "  GKDiving  GKHandling  GKKicking  GKPositioning GKReflexes Release Clause  \n",
       "0      6.0        11.0       15.0           14.0        8.0        €226.5M  \n",
       "1      7.0        11.0       15.0           14.0       11.0        €127.1M  \n",
       "2      9.0         9.0       15.0           15.0       11.0        €228.1M  \n",
       "3     90.0        85.0       87.0           88.0       94.0        €138.6M  \n",
       "4     15.0        13.0        5.0           10.0       13.0        €196.4M  \n",
       "\n",
       "[5 rows x 89 columns]"
      ]
     },
     "execution_count": 10,
     "metadata": {},
     "output_type": "execute_result"
    }
   ],
   "source": [
    "df.head()"
   ]
  },
  {
   "cell_type": "code",
   "execution_count": null,
   "metadata": {},
   "outputs": [],
   "source": [
    "df.info()"
   ]
  },
  {
   "cell_type": "markdown",
   "metadata": {},
   "source": [
    "We got a lot of cleanup to do"
   ]
  },
  {
   "cell_type": "markdown",
   "metadata": {},
   "source": [
    "# Feature Engineering"
   ]
  },
  {
   "cell_type": "markdown",
   "metadata": {},
   "source": [
    "## Dropping the not required columns"
   ]
  },
  {
   "cell_type": "code",
   "execution_count": 50,
   "metadata": {},
   "outputs": [],
   "source": [
    "df.drop(['Unnamed: 0', 'ID', 'Photo', 'Flag','Club Logo'], axis=1,inplace=True)"
   ]
  },
  {
   "cell_type": "markdown",
   "metadata": {},
   "source": [
    "### Check Numeric and Categorical Features"
   ]
  },
  {
   "cell_type": "code",
   "execution_count": 12,
   "metadata": {},
   "outputs": [
    {
     "name": "stdout",
     "output_type": "stream",
     "text": [
      "Numeric Features:\n",
      "   Age  Overall  Potential  Special  International Reputation  Weak Foot  \\\n",
      "0   31       94         94     2202                       5.0        4.0   \n",
      "1   33       94         94     2228                       5.0        4.0   \n",
      "2   26       92         93     2143                       5.0        5.0   \n",
      "\n",
      "   Skill Moves  Jersey Number  Crossing  Finishing  ...  Penalties  Composure  \\\n",
      "0          4.0           10.0      84.0       95.0  ...       75.0       96.0   \n",
      "1          5.0            7.0      84.0       94.0  ...       85.0       95.0   \n",
      "2          5.0           10.0      79.0       87.0  ...       81.0       94.0   \n",
      "\n",
      "   Marking  StandingTackle  SlidingTackle  GKDiving  GKHandling  GKKicking  \\\n",
      "0     33.0            28.0           26.0       6.0        11.0       15.0   \n",
      "1     28.0            31.0           23.0       7.0        11.0       15.0   \n",
      "2     27.0            24.0           33.0       9.0         9.0       15.0   \n",
      "\n",
      "   GKPositioning  GKReflexes  \n",
      "0           14.0         8.0  \n",
      "1           14.0        11.0  \n",
      "2           15.0        11.0  \n",
      "\n",
      "[3 rows x 42 columns]\n"
     ]
    }
   ],
   "source": [
    "# Function to identify numeric features\n",
    "def numeric_features(dataset):\n",
    "    numeric_col = dataset.select_dtypes(include=np.number).columns.tolist()\n",
    "    return dataset[numeric_col].head(3)\n",
    "\n",
    "numeric_columns = numeric_features(df)\n",
    "print(\"Numeric Features:\")\n",
    "print(numeric_columns)"
   ]
  },
  {
   "cell_type": "code",
   "execution_count": 13,
   "metadata": {},
   "outputs": [
    {
     "name": "stdout",
     "output_type": "stream",
     "text": [
      "Categorical Features:\n",
      "                Name Nationality                 Club    Value   Wage  \\\n",
      "0           L. Messi   Argentina         FC Barcelona  €110.5M  €565K   \n",
      "1  Cristiano Ronaldo    Portugal             Juventus     €77M  €405K   \n",
      "2          Neymar Jr      Brazil  Paris Saint-Germain  €118.5M  €290K   \n",
      "\n",
      "  Preferred Foot       Work Rate   Body Type Real Face Position  ...   LDM  \\\n",
      "0           Left  Medium/ Medium       Messi       Yes       RF  ...  61+2   \n",
      "1          Right       High/ Low  C. Ronaldo       Yes       ST  ...  61+3   \n",
      "2          Right    High/ Medium      Neymar       Yes       LW  ...  60+3   \n",
      "\n",
      "    CDM   RDM   RWB    LB   LCB    CB   RCB    RB Release Clause  \n",
      "0  61+2  61+2  64+2  59+2  47+2  47+2  47+2  59+2        €226.5M  \n",
      "1  61+3  61+3  65+3  61+3  53+3  53+3  53+3  61+3        €127.1M  \n",
      "2  60+3  60+3  65+3  60+3  47+3  47+3  47+3  60+3        €228.1M  \n",
      "\n",
      "[3 rows x 42 columns]\n"
     ]
    }
   ],
   "source": [
    "# Function to identify categorical features\n",
    "def categorical_features(dataset):\n",
    "    categorical_col = dataset.select_dtypes(exclude=np.number).columns.tolist()\n",
    "    return dataset[categorical_col].head(3)\n",
    "\n",
    "categorical_columns = categorical_features(df)\n",
    "print(\"Categorical Features:\")\n",
    "print(categorical_columns)"
   ]
  },
  {
   "cell_type": "markdown",
   "metadata": {},
   "source": [
    "# Filling null values"
   ]
  },
  {
   "cell_type": "code",
   "execution_count": 22,
   "metadata": {},
   "outputs": [],
   "source": [
    "pd.set_option(\"display.max_column\",100)\n",
    "pd.set_option(\"display.max_rows\",100)"
   ]
  },
  {
   "cell_type": "code",
   "execution_count": 56,
   "metadata": {},
   "outputs": [],
   "source": [
    "# Function to identify the number of missing values in every feature\n",
    "def missing_data(dataset):\n",
    "    total = dataset.isnull().sum().sort_values(ascending=False)\n",
    "    percent = round(((dataset.isnull().sum()/dataset.isnull().count()).sort_values(ascending=False))*100,3)\n",
    "    data_type = dataset.dtypes\n",
    "    missing_data = pd.concat([data_type, total, percent], axis=1, keys=['Data Type','Total', 'Percent %'])\n",
    "    return missing_data"
   ]
  },
  {
   "cell_type": "code",
   "execution_count": 57,
   "metadata": {},
   "outputs": [
    {
     "name": "stdout",
     "output_type": "stream",
     "text": [
      "                         Data Type  Total  Percent %\n",
      "Acceleration               float64      0      0.000\n",
      "Age                          int64      0      0.000\n",
      "Aggression                 float64      0      0.000\n",
      "Agility                    float64      0      0.000\n",
      "Balance                    float64      0      0.000\n",
      "BallControl                float64      0      0.000\n",
      "Body Type                   object     48      0.264\n",
      "CAM                         object   2085     11.452\n",
      "CB                          object   2085     11.452\n",
      "CDM                         object   2085     11.452\n",
      "CF                          object   2085     11.452\n",
      "CM                          object   2085     11.452\n",
      "Club                        object    241      1.324\n",
      "Composure                  float64      0      0.000\n",
      "Contract Valid Until        object    289      1.587\n",
      "Crossing                   float64      0      0.000\n",
      "Curve                      float64      0      0.000\n",
      "Dribbling                  float64      0      0.000\n",
      "FKAccuracy                 float64      0      0.000\n",
      "Finishing                  float64      0      0.000\n",
      "GKDiving                   float64      0      0.000\n",
      "GKHandling                 float64      0      0.000\n",
      "GKKicking                  float64      0      0.000\n",
      "GKPositioning              float64      0      0.000\n",
      "GKReflexes                 float64      0      0.000\n",
      "HeadingAccuracy            float64      0      0.000\n",
      "Height                      object     48      0.264\n",
      "Interceptions              float64      0      0.000\n",
      "International Reputation   float64      0      0.000\n",
      "Jersey Number              float64      0      0.000\n",
      "Joined                      object   1553      8.530\n",
      "Jumping                    float64      0      0.000\n",
      "LAM                         object   2085     11.452\n",
      "LB                          object   2085     11.452\n",
      "LCB                         object   2085     11.452\n",
      "LCM                         object   2085     11.452\n",
      "LDM                         object   2085     11.452\n",
      "LF                          object   2085     11.452\n",
      "LM                          object   2085     11.452\n",
      "LS                          object   2085     11.452\n",
      "LW                          object   2085     11.452\n",
      "LWB                         object   2085     11.452\n",
      "Loaned From                 object  16943     93.058\n",
      "LongPassing                float64      0      0.000\n",
      "LongShots                  float64      0      0.000\n",
      "Marking                    float64      0      0.000\n",
      "Name                        object      0      0.000\n",
      "Nationality                 object      0      0.000\n",
      "Overall                      int64      0      0.000\n",
      "Penalties                  float64      0      0.000\n",
      "Position                    object     60      0.330\n",
      "Positioning                float64      0      0.000\n",
      "Potential                    int64      0      0.000\n",
      "Preferred Foot              object     48      0.264\n",
      "RAM                         object   2085     11.452\n",
      "RB                          object   2085     11.452\n",
      "RCB                         object   2085     11.452\n",
      "RCM                         object   2085     11.452\n",
      "RDM                         object   2085     11.452\n",
      "RF                          object   2085     11.452\n",
      "RM                          object   2085     11.452\n",
      "RS                          object   2085     11.452\n",
      "RW                          object   2085     11.452\n",
      "RWB                         object   2085     11.452\n",
      "Reactions                  float64      0      0.000\n",
      "Real Face                   object     48      0.264\n",
      "Release Clause              object   1564      8.590\n",
      "ST                          object   2085     11.452\n",
      "ShortPassing               float64      0      0.000\n",
      "ShotPower                  float64      0      0.000\n",
      "Skill Moves                float64      0      0.000\n",
      "SlidingTackle              float64      0      0.000\n",
      "Special                      int64      0      0.000\n",
      "SprintSpeed                float64      0      0.000\n",
      "Stamina                    float64      0      0.000\n",
      "StandingTackle             float64      0      0.000\n",
      "Strength                   float64      0      0.000\n",
      "Value                       object      0      0.000\n",
      "Vision                     float64      0      0.000\n",
      "Volleys                    float64      0      0.000\n",
      "Wage                        object      0      0.000\n",
      "Weak Foot                  float64      0      0.000\n",
      "Weight                      object     48      0.264\n",
      "Work Rate                   object     48      0.264\n"
     ]
    }
   ],
   "source": [
    "missing_data = missing_data(df)\n",
    "print(missing_data)"
   ]
  },
  {
   "cell_type": "code",
   "execution_count": 54,
   "metadata": {},
   "outputs": [
    {
     "data": {
      "text/plain": [
       "['Age',\n",
       " 'Overall',\n",
       " 'Potential',\n",
       " 'Special',\n",
       " 'International Reputation',\n",
       " 'Weak Foot',\n",
       " 'Skill Moves',\n",
       " 'Jersey Number',\n",
       " 'Crossing',\n",
       " 'Finishing',\n",
       " 'HeadingAccuracy',\n",
       " 'ShortPassing',\n",
       " 'Volleys',\n",
       " 'Dribbling',\n",
       " 'Curve',\n",
       " 'FKAccuracy',\n",
       " 'LongPassing',\n",
       " 'BallControl',\n",
       " 'Acceleration',\n",
       " 'SprintSpeed',\n",
       " 'Agility',\n",
       " 'Reactions',\n",
       " 'Balance',\n",
       " 'ShotPower',\n",
       " 'Jumping',\n",
       " 'Stamina',\n",
       " 'Strength',\n",
       " 'LongShots',\n",
       " 'Aggression',\n",
       " 'Interceptions',\n",
       " 'Positioning',\n",
       " 'Vision',\n",
       " 'Penalties',\n",
       " 'Composure',\n",
       " 'Marking',\n",
       " 'StandingTackle',\n",
       " 'SlidingTackle',\n",
       " 'GKDiving',\n",
       " 'GKHandling',\n",
       " 'GKKicking',\n",
       " 'GKPositioning',\n",
       " 'GKReflexes']"
      ]
     },
     "execution_count": 54,
     "metadata": {},
     "output_type": "execute_result"
    }
   ],
   "source": [
    "num_type = df.select_dtypes(include=np.number).columns.tolist()\n",
    "\n",
    "for i in num_type:\n",
    "    df[i].fillna(df[i].mean(), inplace=True)"
   ]
  },
  {
   "cell_type": "code",
   "execution_count": 55,
   "metadata": {},
   "outputs": [],
   "source": []
  },
  {
   "cell_type": "markdown",
   "metadata": {},
   "source": [
    "### Relacing missing data with Mean"
   ]
  },
  {
   "cell_type": "code",
   "execution_count": 20,
   "metadata": {},
   "outputs": [],
   "source": [
    "'Balance','BallControl','Composure','Crossing', 'Curve', 'Dribbling','FKAccuracy', 'Finishing', 'GKDiving', \\\n",
    "'GKHandling', 'GKKicking', 'GKPositioning', 'GKReflexes','HeadingAccuracy', 'Interceptions', 'International Reputation',\\\n",
    "'Jersey Number','Jumping', 'LongPassing', 'LongShots', \n",
    "df['Acceleration'].fillna(df['Acceleration'].mean(),inplace=True)\n",
    "df['Aggression'].fillna(df['Aggression'].mean(),inplace=True)\n",
    "df['Agility'].fillna(df['Agility'].mean(),inplace=True)\n",
    "df['Balance'].fillna(df['Balance'].mean(),inplace=True)\n",
    "df['BallControl'].fillna(df['BallControl'].mean(),inplace=True)\n",
    "df['Composure'].fillna(df['Composure'].mean(),inplace=True)\n",
    "df['Crossing'].fillna(df['Crossing'].mean(),inplace=True)\n",
    "df['Curve'].fillna(df['Curve'].mean(),inplace=True)\n",
    "df['Dribbling'].fillna(df['Dribbling'].mean(),inplace=True)\n",
    "df['FKAccuracy'].fillna(df['FKAccuracy'].mean(),inplace=True)\n",
    "df['Finishing'].fillna(df['Finishing'].mean(),inplace=True)\n",
    "df['GKDiving'].fillna(df['GKDiving'].mean(),inplace=True)\n",
    "df['GKHandling'].fillna(df['GKHandling'].mean(),inplace=True)\n",
    "df['GKKicking'].fillna(df['GKKicking'].mean(),inplace=True)\n",
    "df['GKPositioning'].fillna(df['GKPositioning'].mean(),inplace=True)\n",
    "df['GKReflexes'].fillna(df['GKReflexes'].mean(),inplace=True)\n",
    "df['HeadingAccuracy'].fillna(df['HeadingAccuracy'].mean(),inplace=True)\n",
    "df['Interceptions'].fillna(df['Interceptions'].mean(),inplace=True)\n",
    "df['International Reputation'].fillna(df['International Reputation'].mean(),inplace=True)\n",
    "df['Jersey Number'].fillna(df['Jersey Number'].mean(),inplace=True)\n",
    "df['Jumping'].fillna(df['Jumping'].mean(),inplace=True)\n",
    "df['LongPassing'].fillna(df['LongPassing'].mean(),inplace=True)\n",
    "df['LongShots'].fillna(df['LongShots'].mean(),inplace=True)\n",
    "df['Marking'].fillna(df['Marking'].mean(),inplace=True)\n",
    "df['Penalties'].fillna(df['Penalties'].mean(),inplace=True)\n",
    "df['Positioning'].fillna(df['Positioning'].mean(),inplace=True)\n",
    "df['Reactions'].fillna(df['Reactions'].mean(),inplace=True)\n",
    "df['ShortPassing'].fillna(df['ShortPassing'].mean(),inplace=True)\n",
    "df['ShotPower'].fillna(df['ShotPower'].mean(),inplace=True)\n",
    "df['Skill Moves'].fillna(df['Skill Moves'].mean(),inplace=True)\n",
    "df['SlidingTackle'].fillna(df['SlidingTackle'].mean(),inplace=True)\n",
    "df['SprintSpeed'].fillna(df['SprintSpeed'].mean(),inplace=True)\n",
    "df['Stamina'].fillna(df['Stamina'].mean(),inplace=True)\n",
    "df['StandingTackle'].fillna(df['StandingTackle'].mean(), inplace = True)\n",
    "df['Strength'].fillna(df['Strength'].mean(), inplace = True)\n",
    "df['Vision'].fillna(df['Vision'].mean(), inplace = True)\n",
    "df['Volleys'].fillna(df['Volleys'].mean(),inplace=True)\n",
    "df['Weak Foot'].fillna(df['Weak Foot'].mean(),inplace=True)"
   ]
  },
  {
   "cell_type": "markdown",
   "metadata": {},
   "source": [
    "### Relacing with Mode"
   ]
  },
  {
   "cell_type": "code",
   "execution_count": 46,
   "metadata": {},
   "outputs": [],
   "source": [
    "df['Body Type'].fillna(df['Body Type'].mode(),inplace=True)\n",
    "df['CAM'].fillna(df['CAM'].mode(),inplace=True)\n",
    "df['CB'].fillna(df['CB'].mode(),inplace=True)\n",
    "df['CDM'].fillna(df['CDM'].mode(),inplace=True)\n",
    "df['CF'].fillna(df['CF'].mode(),inplace=True)\n",
    "df['CM'].fillna(df['CM'].mode(),inplace=True)\n",
    "df['Club'].fillna(df['Club'].mode(),inplace=True)\n",
    "df['Contract Valid Until'].fillna(df['Contract Valid Until'].mode(),inplace=True)\n",
    "df['Height'].fillna(df['Height'].mode(),inplace=True)\n",
    "df['Joined'].fillna(df['Joined'].mode(),inplace=True)\n",
    "df['LAM'].fillna(df['LAM'].mode(),inplace=True)\n",
    "df['LB'].fillna(df['LB'].mode(),inplace=True)\n",
    "df['LCB'].fillna(df['LCB'].mode(),inplace=True)\n",
    "df['LCM'].fillna(df['LCM'].mode(),inplace=True)\n",
    "df['LDM'].fillna(df['LDM'].mode(),inplace=True)\n",
    "df['LF'].fillna(df['LF'].mode(),inplace=True)\n",
    "df['LM'].fillna(df['LM'].mode(),inplace=True)\n",
    "df['LW'].fillna(df['LW'].mode(),inplace=True)\n",
    "df['LWB'].fillna(df['LWB'].mode(),inplace=True)\n",
    "df['Position'].fillna(df['Position'].mode(),inplace=True)\n",
    "df['Preferred Foot'].fillna(df['Preferred Foot'].mode(),inplace=True)\n",
    "df['RAM'].fillna(df['RAM'].mode(),inplace=True)\n",
    "df['RB'].fillna(df['RB'].mode(),inplace=True)\n",
    "df['RCB'].fillna(df['RCB'].mode(),inplace=True)\n",
    "df['RCM'].fillna(df['RCM'].mode(),inplace=True)\n",
    "df['RDM'].fillna(df['RDM'].mode(),inplace=True)\n",
    "df['RF'].fillna(df['RF'].mode(),inplace=True)\n",
    "df['RM'].fillna(df['RM'].mode(),inplace=True)\n",
    "df['RW'].fillna(df['RW'].mode(),inplace=True)\n",
    "df['RWB'].fillna(df['RWB'].mode(),inplace=True)\n",
    "df['Real Face'].fillna(df['Real Face'].mode(),inplace=True)\n",
    "df['Release Clause'].fillna(df['Release Clause'].mode(),inplace=True)\n",
    "df['ST'].fillna(df['ST'].mode(),inplace=True)\n",
    "df['Weight'].fillna(df['Weight'].mode(),inplace=True)\n",
    "df['Work Rate'].fillna(df['Work Rate'].mode(),inplace=True)"
   ]
  },
  {
   "cell_type": "code",
   "execution_count": 39,
   "metadata": {},
   "outputs": [],
   "source": [
    "int_type = ['Acceleration', 'Aggression','Agility']\n",
    "object_type = ['Body Type', 'CAM', 'CB', 'CDM','CF','CM', 'Club','Contract Valid Until', 'Height', 'Joined',\\\n",
    "              'LAM', 'LB','LCM','LDM','LF','LM','LW','LWB', 'Position', 'Preferred Foot', \\\n",
    "              'RAM', 'RB','RCM','RDM','RF','RM','RW','RWB', 'Real Face', 'Release Clause', \\\n",
    "              'ST', 'Weight', 'Work Rate']"
   ]
  },
  {
   "cell_type": "code",
   "execution_count": null,
   "metadata": {},
   "outputs": [],
   "source": [
    "df.fillna(0, inplace=True)"
   ]
  },
  {
   "cell_type": "markdown",
   "metadata": {},
   "source": [
    "# Replacing '€' "
   ]
  },
  {
   "cell_type": "code",
   "execution_count": null,
   "metadata": {},
   "outputs": [],
   "source": [
    "def extract(Value):\n",
    "    col = Value.replace('€', '')\n",
    "    if 'M' in col:\n",
    "        col = float(col.replace('M', ''))*1000000\n",
    "    elif 'K' in Value:\n",
    "        col = float(col.replace('K', ''))*1000\n",
    "    return float(col)"
   ]
  },
  {
   "cell_type": "code",
   "execution_count": null,
   "metadata": {},
   "outputs": [],
   "source": [
    "df['Value']=df['Value'].apply(extract)\n",
    "df['Wage']=df['Wage'].apply(extract)"
   ]
  },
  {
   "cell_type": "markdown",
   "metadata": {},
   "source": [
    "# Data visualization"
   ]
  },
  {
   "cell_type": "markdown",
   "metadata": {},
   "source": [
    "# Analyzing Player Data"
   ]
  },
  {
   "cell_type": "markdown",
   "metadata": {},
   "source": [
    "### What is the count of ages?"
   ]
  },
  {
   "cell_type": "code",
   "execution_count": null,
   "metadata": {},
   "outputs": [],
   "source": [
    "plt.figure(figsize=(12,6))\n",
    "sns.countplot(df['Age'],palette='viridis')\n",
    "plt.title('Count Of Age')\n",
    "plt.xlabel('Age')\n",
    "plt.ylabel('Count')\n",
    "plt.show()"
   ]
  },
  {
   "cell_type": "markdown",
   "metadata": {},
   "source": [
    "Maximum players are in their early 30's."
   ]
  },
  {
   "cell_type": "markdown",
   "metadata": {},
   "source": [
    "### What is the count of nationality?"
   ]
  },
  {
   "cell_type": "code",
   "execution_count": null,
   "metadata": {},
   "outputs": [],
   "source": [
    "plt.figure(figsize=(12,6))\n",
    "df['Nationality'].value_counts().head(50).plot.bar(cmap='inferno')\n",
    "plt.title('Count Of Nationality')\n",
    "plt.xlabel('Nationality')\n",
    "plt.ylabel('Count')\n",
    "plt.xticks(rotation=90)\n",
    "plt.show()"
   ]
  },
  {
   "cell_type": "markdown",
   "metadata": {},
   "source": [
    "### Distribution of overall"
   ]
  },
  {
   "cell_type": "code",
   "execution_count": null,
   "metadata": {},
   "outputs": [],
   "source": [
    "plt.figure(figsize=(12,6))\n",
    "sns.distplot(df['Overall'],color='k',kde=False)\n",
    "plt.title('Distribution Of Overall')\n",
    "plt.xlabel('Overall')\n",
    "plt.show()"
   ]
  },
  {
   "cell_type": "markdown",
   "metadata": {},
   "source": [
    "### Distribution of Potential "
   ]
  },
  {
   "cell_type": "code",
   "execution_count": null,
   "metadata": {},
   "outputs": [],
   "source": [
    "plt.figure(figsize=(12,6))\n",
    "sns.distplot(df['Potential'],kde=False,color='b')\n",
    "plt.title('Distribution Of Potential')\n",
    "plt.xlabel('Potential')\n",
    "plt.show()"
   ]
  },
  {
   "cell_type": "markdown",
   "metadata": {},
   "source": [
    "### What is the count of Skill Moves?"
   ]
  },
  {
   "cell_type": "code",
   "execution_count": null,
   "metadata": {},
   "outputs": [],
   "source": [
    "plt.figure(figsize=(12,6))\n",
    "sns.countplot(df['Skill Moves'],palette='bone')\n",
    "plt.title('Count Of Skill Moves')\n",
    "plt.xlabel('Skill Moves')\n",
    "plt.ylabel('Count')\n",
    "plt.show()"
   ]
  },
  {
   "cell_type": "markdown",
   "metadata": {},
   "source": [
    "### What isthe count of Work Rate?"
   ]
  },
  {
   "cell_type": "code",
   "execution_count": null,
   "metadata": {},
   "outputs": [],
   "source": [
    "plt.figure(figsize=(12,6))\n",
    "sns.countplot(df['Work Rate'],palette='rocket')\n",
    "plt.title('Count Of Work Rate')\n",
    "plt.xlabel('Work Rate')\n",
    "plt.ylabel('Count')\n",
    "plt.show()"
   ]
  },
  {
   "cell_type": "markdown",
   "metadata": {},
   "source": [
    "### What are the counts of various positions?"
   ]
  },
  {
   "cell_type": "code",
   "execution_count": null,
   "metadata": {},
   "outputs": [],
   "source": [
    "plt.figure(figsize=(12,6))\n",
    "sns.countplot(df['Position'],palette='icefire_r')\n",
    "plt.title('Count Of Position')\n",
    "plt.xlabel('Position')\n",
    "plt.ylabel('Count')\n",
    "plt.show()"
   ]
  },
  {
   "cell_type": "markdown",
   "metadata": {},
   "source": [
    "# Looking for relationships"
   ]
  },
  {
   "cell_type": "markdown",
   "metadata": {},
   "source": [
    "### Let's pairplot"
   ]
  },
  {
   "cell_type": "code",
   "execution_count": null,
   "metadata": {},
   "outputs": [],
   "source": [
    "col=df[['Age','Overall','BallControl','SprintSpeed','Agility','Balance',\n",
    "        'Acceleration','Stamina']]\n",
    "sns.pairplot(col)"
   ]
  },
  {
   "cell_type": "markdown",
   "metadata": {},
   "source": [
    "1. Acceleration and SprintSpeed forms a linear graph\n",
    "2. Acceleration vs Agility, Balance vs Agility are pretty much correlated "
   ]
  },
  {
   "cell_type": "code",
   "execution_count": null,
   "metadata": {},
   "outputs": [],
   "source": [
    "sns.set(palette='Dark2')\n",
    "sns.lmplot(x='Acceleration',y='SprintSpeed',data=df,scatter_kws={'color':'cyan','edgecolor':'blue','linewidth':'0.7'},\n",
    "           line_kws={'color':'black'})"
   ]
  },
  {
   "cell_type": "markdown",
   "metadata": {},
   "source": [
    "Accelation is directly proportional to speed"
   ]
  },
  {
   "cell_type": "markdown",
   "metadata": {},
   "source": [
    "## Ball Control vs Dribbling"
   ]
  },
  {
   "cell_type": "code",
   "execution_count": null,
   "metadata": {},
   "outputs": [],
   "source": [
    "sns.lmplot(x='BallControl',y='Dribbling',data=df,col='Preferred Foot',\n",
    "           scatter_kws={'color':'cyan','edgecolor':'blue','linewidth':'0.7'},\n",
    "           line_kws={'color':'black'})"
   ]
  },
  {
   "cell_type": "markdown",
   "metadata": {},
   "source": [
    "Looks like the right footed players have more control over the ball while dribbling"
   ]
  },
  {
   "cell_type": "markdown",
   "metadata": {},
   "source": [
    "# Some more exploration"
   ]
  },
  {
   "cell_type": "markdown",
   "metadata": {},
   "source": [
    "### International Reputation of the players "
   ]
  },
  {
   "cell_type": "code",
   "execution_count": null,
   "metadata": {},
   "outputs": [],
   "source": [
    "plt.figure(figsize=(9,9))\n",
    "size=df['International Reputation'].value_counts()\n",
    "label=['1','2','3','4','5']\n",
    "colors=plt.cm.Wistia(np.linspace(0, 1, 5))\n",
    "explode=[0.1,0.1,0.2,0.6,1]\n",
    "plt.pie(size,labels=label,colors=colors,explode=explode,shadow=True)\n",
    "plt.title('International Reputation')\n",
    "plt.show()"
   ]
  },
  {
   "cell_type": "markdown",
   "metadata": {},
   "source": [
    "### Weak Foot Rating"
   ]
  },
  {
   "cell_type": "code",
   "execution_count": null,
   "metadata": {},
   "outputs": [],
   "source": [
    "plt.figure(figsize=(9,9))\n",
    "size=df['Weak Foot'].value_counts()\n",
    "label=['3','2','4','5','1']\n",
    "colors=plt.cm.Wistia(np.linspace(0, 1, 5))\n",
    "explode=[0,0.04,0.06,0.2,0.6]\n",
    "plt.pie(size,labels=label,colors=colors,explode=explode,shadow=True)\n",
    "plt.title('Weak Foot')\n",
    "plt.show()"
   ]
  },
  {
   "cell_type": "markdown",
   "metadata": {},
   "source": [
    "### What is the preffreed foot of the players?"
   ]
  },
  {
   "cell_type": "code",
   "execution_count": null,
   "metadata": {},
   "outputs": [],
   "source": [
    "size=df['Preferred Foot'].value_counts()\n",
    "label=['Right','Left']\n",
    "colors=plt.cm.Wistia(np.linspace(0, 1, 5))\n",
    "explode=[0.04,0.04]\n",
    "fig,ax=plt.subplots(1,2,figsize=(14,7))\n",
    "_=sns.countplot('Preferred Foot',data=df,ax=ax[0], palette='Wistia')\n",
    "_=plt.pie(size,labels=label,colors=colors,explode=explode,shadow=True,autopct='%.2f%%')\n",
    "plt.title('Preferred Foot')\n",
    "plt.show()"
   ]
  },
  {
   "cell_type": "markdown",
   "metadata": {},
   "source": [
    "Most of the players prefer right foot over left"
   ]
  },
  {
   "cell_type": "markdown",
   "metadata": {},
   "source": [
    "### Count of heights"
   ]
  },
  {
   "cell_type": "code",
   "execution_count": null,
   "metadata": {},
   "outputs": [],
   "source": [
    "plt.figure(figsize=(12,6))\n",
    "sns.countplot(df['Height'],palette='bone')\n",
    "plt.title('Count Of Height')\n",
    "plt.xlabel('Height')\n",
    "plt.ylabel('Count')\n",
    "plt.show()"
   ]
  },
  {
   "cell_type": "markdown",
   "metadata": {},
   "source": [
    "Looks like most of the players are 5'10 to 6'1 foot"
   ]
  },
  {
   "cell_type": "markdown",
   "metadata": {},
   "source": [
    "### Count of weights"
   ]
  },
  {
   "cell_type": "code",
   "execution_count": null,
   "metadata": {},
   "outputs": [],
   "source": [
    "plt.figure(figsize=(17,6))\n",
    "sns.countplot(df['Weight'],palette='bone')\n",
    "plt.title('Count Of Weight')\n",
    "plt.xlabel('Position')\n",
    "plt.ylabel('Count')\n",
    "plt.xticks(rotation=90)\n",
    "plt.show()"
   ]
  },
  {
   "cell_type": "markdown",
   "metadata": {},
   "source": [
    "### Wage Distribution"
   ]
  },
  {
   "cell_type": "code",
   "execution_count": null,
   "metadata": {},
   "outputs": [],
   "source": [
    "plt.figure(figsize=(12,6))\n",
    "sns.set_style('whitegrid')\n",
    "sns.distplot(df['Wage'],color='black')\n",
    "plt.title('Distribution of Wages')\n",
    "plt.xticks(rotation=90)\n",
    "plt.show()"
   ]
  },
  {
   "cell_type": "markdown",
   "metadata": {},
   "source": [
    "# Grouping"
   ]
  },
  {
   "cell_type": "code",
   "execution_count": null,
   "metadata": {},
   "outputs": [],
   "source": [
    "def technical(df):\n",
    "    return int(round((df[['Crossing','Dribbling','Finishing','HeadingAccuracy','LongShots','Marking',\n",
    "                          'FKAccuracy','LongPassing','ShortPassing','StandingTackle',\n",
    "                          'SlidingTackle','BallControl']].mean()).mean()))\n",
    "def mental(df):\n",
    "    return int(round((df[['Aggression','Composure','Positioning','Vision',\n",
    "                          'Interceptions']].mean()).mean()))\n",
    "\n",
    "def physical(df):\n",
    "    return int(round((df[['Acceleration','Agility','Balance','Jumping','Stamina',\n",
    "                          'Strength','Reactions','ShotPower']].mean()).mean()))"
   ]
  },
  {
   "cell_type": "markdown",
   "metadata": {},
   "source": [
    "Here I have grouped the columns based on three skill factors:\n",
    "\n",
    "* Technical Skills\n",
    "* Mental Skills\n",
    "* Physical"
   ]
  },
  {
   "cell_type": "code",
   "execution_count": null,
   "metadata": {},
   "outputs": [],
   "source": [
    "df['Technical']=df.apply(technical,axis=1)\n",
    "df['Mental']=df.apply(mental,axis=1)\n",
    "df['Physical']=df.apply(physical,axis=1)"
   ]
  },
  {
   "cell_type": "markdown",
   "metadata": {},
   "source": [
    "# Player DataFrame\n",
    "\n",
    "Let's define a new dataframe which consists of various attributes about a player"
   ]
  },
  {
   "cell_type": "code",
   "execution_count": null,
   "metadata": {},
   "outputs": [],
   "source": [
    "player_data=df[['Name','Age','Nationality','Overall','Club','Technical','Mental',\n",
    "                'Physical','Position','Potential','Wage']]\n",
    "player_data.head()"
   ]
  },
  {
   "cell_type": "code",
   "execution_count": null,
   "metadata": {},
   "outputs": [],
   "source": [
    "df.drop(['Technical','Mental','Physical'],axis=1,inplace=True)"
   ]
  },
  {
   "cell_type": "markdown",
   "metadata": {},
   "source": [
    "### Best Players from each positions with their age, nationality, club and attributes based on their Overall Scores"
   ]
  },
  {
   "cell_type": "code",
   "execution_count": null,
   "metadata": {},
   "outputs": [],
   "source": [
    "player_data.iloc[player_data.groupby(player_data['Overall'])['Potential'].idxmax()][['Position',\n",
    "                                                                 'Name', 'Age', 'Club', 'Nationality',\n",
    "                                                                                      'Technical','Mental','Physical']].head(10)"
   ]
  },
  {
   "cell_type": "markdown",
   "metadata": {},
   "source": [
    "### Best Players from each positions with their age, nationality, club based on their Position"
   ]
  },
  {
   "cell_type": "code",
   "execution_count": null,
   "metadata": {},
   "outputs": [],
   "source": [
    "player_data.iloc[player_data.groupby(player_data['Position'])['Potential'].idxmax()][['Position',\n",
    "                                                                 'Name', 'Age', 'Club', 'Nationality',\n",
    "                                                                                      'Technical','Mental','Physical']].head(10)"
   ]
  },
  {
   "cell_type": "markdown",
   "metadata": {},
   "source": [
    "## Top 10 highest paid players"
   ]
  },
  {
   "cell_type": "code",
   "execution_count": null,
   "metadata": {},
   "outputs": [],
   "source": [
    "player_data[player_data['Wage']>340000].sort_values(by='Wage',ascending=False).head(10)"
   ]
  },
  {
   "cell_type": "markdown",
   "metadata": {},
   "source": [
    " ## Top 10 Eldest players"
   ]
  },
  {
   "cell_type": "code",
   "execution_count": null,
   "metadata": {},
   "outputs": [],
   "source": [
    "player_data.sort_values('Age',ascending=False).head(10)"
   ]
  },
  {
   "cell_type": "markdown",
   "metadata": {},
   "source": [
    "## Top 10 youngest players"
   ]
  },
  {
   "cell_type": "code",
   "execution_count": null,
   "metadata": {},
   "outputs": [],
   "source": [
    "player_data.sort_values('Age').head(10)"
   ]
  },
  {
   "cell_type": "markdown",
   "metadata": {},
   "source": [
    "## Finding correlation between selected columns\n",
    "\n",
    "Here I have taken few attributes that characterize players"
   ]
  },
  {
   "cell_type": "code",
   "execution_count": null,
   "metadata": {},
   "outputs": [],
   "source": [
    "plt.figure(figsize=(16,12))\n",
    "sns.heatmap(df[['Age', 'Nationality', 'Overall', 'Potential', 'Club', 'Value','Wage', \n",
    "                'Special', 'Preferred Foot', 'Weak Foot', 'Skill Moves', 'Work Rate', 'Body Type',\n",
    "                'Height', 'Weight','Crossing', 'Finishing', 'HeadingAccuracy', 'ShortPassing', 'Volleys',\n",
    "                'Dribbling', 'Curve', 'FKAccuracy', 'LongPassing', 'BallControl',\n",
    "       'Acceleration', 'SprintSpeed', 'Agility', 'Balance',\n",
    "       'ShotPower', 'Jumping', 'Stamina', 'Strength', 'LongShots',\n",
    "       'Aggression', 'Interceptions', 'Positioning', 'Vision', 'Penalties',\n",
    "       'Composure', 'Marking', 'StandingTackle', 'SlidingTackle', 'GKDiving',\n",
    "       'GKHandling', 'GKKicking', 'GKPositioning', 'GKReflexes']].corr(),linecolor='black',linewidths=0.1)\n",
    "plt.show()"
   ]
  },
  {
   "cell_type": "markdown",
   "metadata": {},
   "source": [
    "# Analyzing Countries"
   ]
  },
  {
   "cell_type": "markdown",
   "metadata": {},
   "source": [
    "## Top 10 countries with most players"
   ]
  },
  {
   "cell_type": "code",
   "execution_count": null,
   "metadata": {},
   "outputs": [],
   "source": [
    "df['Nationality'].value_counts().head(10)"
   ]
  },
  {
   "cell_type": "code",
   "execution_count": null,
   "metadata": {},
   "outputs": [],
   "source": [
    "nation=('England','Germany','Spain','Argentina','France','Brazil','Italy','Columbia','Japan','Netherlands')\n",
    "df_nation=df.loc[df['Nationality'].isin(nation) & df['Overall']]"
   ]
  },
  {
   "cell_type": "markdown",
   "metadata": {},
   "source": [
    "## Overall Score of the top 10 countries"
   ]
  },
  {
   "cell_type": "code",
   "execution_count": null,
   "metadata": {},
   "outputs": [],
   "source": [
    "plt.figure(figsize=(12,6))\n",
    "sns.barplot(x=df_nation['Nationality'],y=df_nation['Overall'], palette='Wistia')\n",
    "plt.title('Position')\n",
    "plt.show()"
   ]
  },
  {
   "cell_type": "markdown",
   "metadata": {},
   "source": [
    "## Potential Score of the top 10 countries"
   ]
  },
  {
   "cell_type": "code",
   "execution_count": null,
   "metadata": {},
   "outputs": [],
   "source": [
    "nation=('England','Germany','Spain','Argentina','France','Brazil','Italy','Columbia','Japan','Netherlands')\n",
    "df_nation=df.loc[df['Nationality'].isin(nation) & df['Potential']]\n",
    "\n",
    "plt.figure(figsize=(12,6))\n",
    "sns.barplot(x=df_nation['Nationality'],y=df_nation['Potential'], palette='inferno')\n",
    "plt.title('Nationality vs Potential')\n",
    "plt.xlabel('Nationality')\n",
    "plt.ylabel('Potential')\n",
    "plt.show()"
   ]
  },
  {
   "cell_type": "markdown",
   "metadata": {},
   "source": [
    "## Age differences between the top 10 countries"
   ]
  },
  {
   "cell_type": "code",
   "execution_count": null,
   "metadata": {},
   "outputs": [],
   "source": [
    "nation=('England','Germany','Spain','Argentina','France','Brazil','Italy','Columbia','Japan','Netherlands')\n",
    "df_nation=df.loc[df['Nationality'].isin(nation) & df['Overall']]\n",
    "\n",
    "plt.figure(figsize=(12,6))\n",
    "sns.lineplot(x=df_nation['Nationality'],y=df_nation['Age'])\n",
    "plt.title('Nationality vs Age')\n",
    "plt.xlabel('Nationality')\n",
    "plt.ylabel('Age')\n",
    "plt.show()"
   ]
  },
  {
   "cell_type": "markdown",
   "metadata": {},
   "source": [
    "# Analyzing countries by skill set"
   ]
  },
  {
   "cell_type": "markdown",
   "metadata": {},
   "source": [
    "## Nationality vs Technical Skills"
   ]
  },
  {
   "cell_type": "code",
   "execution_count": null,
   "metadata": {},
   "outputs": [],
   "source": [
    "nation=('England','Germany','Spain','Argentina','France','Brazil','Italy','Columbia','Japan','Netherlands')\n",
    "player_data_nation=player_data.loc[df['Nationality'].isin(nation) & player_data['Technical']]\n",
    "\n",
    "plt.figure(figsize=(12,6))\n",
    "sns.boxplot(x=player_data_nation['Nationality'],y=player_data_nation['Technical'], palette='viridis')\n",
    "plt.title('Nationality vs Technical Skills')\n",
    "plt.xlabel('Nationality')\n",
    "plt.ylabel('Technical Skills')\n",
    "plt.show()"
   ]
  },
  {
   "cell_type": "markdown",
   "metadata": {},
   "source": [
    "## Nationality vs Mental Skills"
   ]
  },
  {
   "cell_type": "code",
   "execution_count": null,
   "metadata": {},
   "outputs": [],
   "source": [
    "nation=('England','Germany','Spain','Argentina','France','Brazil','Italy','Columbia','Japan','Netherlands')\n",
    "player_data_nation=player_data.loc[df['Nationality'].isin(nation) & player_data['Mental']]\n",
    "\n",
    "plt.figure(figsize=(12,6))\n",
    "sns.boxplot(x=player_data_nation['Nationality'],y=player_data_nation['Mental'], palette='viridis')\n",
    "plt.title('Nationality vs Mental Skills')\n",
    "plt.xlabel('Nationality')\n",
    "plt.ylabel('Mental Skills')\n",
    "plt.show()"
   ]
  },
  {
   "cell_type": "markdown",
   "metadata": {},
   "source": [
    "## Nationality vs Physical Skills"
   ]
  },
  {
   "cell_type": "code",
   "execution_count": null,
   "metadata": {},
   "outputs": [],
   "source": [
    "nation=('England','Germany','Spain','Argentina','France','Brazil','Italy','Columbia','Japan','Netherlands')\n",
    "player_data_nation=player_data.loc[df['Nationality'].isin(nation) & player_data['Physical']]\n",
    "\n",
    "plt.figure(figsize=(12,6))\n",
    "sns.boxplot(x=player_data_nation['Nationality'],y=player_data_nation['Physical'], palette='plasma')\n",
    "plt.title('Nationality vs Physical Skills')\n",
    "plt.xlabel('Nationality')\n",
    "plt.ylabel('Physical Skills')\n",
    "plt.show()"
   ]
  },
  {
   "cell_type": "markdown",
   "metadata": {},
   "source": [
    "# Visualizing Indian players by Age"
   ]
  },
  {
   "cell_type": "code",
   "execution_count": null,
   "metadata": {},
   "outputs": [],
   "source": [
    "player_data[player_data['Nationality']=='India'][['Name','Age','Overall',\n",
    "                                                  'Technical','Mental',\n",
    "                                                  'Physical','Position']].sort_values(by='Age',ascending=False)"
   ]
  },
  {
   "cell_type": "markdown",
   "metadata": {},
   "source": [
    "# Visualizing Club Data"
   ]
  },
  {
   "cell_type": "markdown",
   "metadata": {},
   "source": [
    "## Top 10 Clubs with the higheat numbers of Players"
   ]
  },
  {
   "cell_type": "code",
   "execution_count": null,
   "metadata": {},
   "outputs": [],
   "source": [
    "df['Club'].value_counts().head(10)"
   ]
  },
  {
   "cell_type": "markdown",
   "metadata": {},
   "source": [
    "## What is their Overall distribution?"
   ]
  },
  {
   "cell_type": "code",
   "execution_count": null,
   "metadata": {},
   "outputs": [],
   "source": [
    "clubs=('CD Leganés','Newcastle United','Cardiff City','Everton','TSG 1899 Hoffenheim','Southampton',\n",
    "      'Tottenham Hotspur','Valencia CF','Wolverhampton Wanderers')\n",
    "df_club=df.loc[df['Club'].isin(clubs) & df['Overall']]\n",
    "\n",
    "plt.figure(figsize=(14,6))\n",
    "sns.barplot(x=df_club['Club'],y=df_club['Overall'],palette='twilight')\n",
    "plt.xticks(rotation=90)\n",
    "plt.title('Club vs Ovreall')\n",
    "plt.xlabel('Club')\n",
    "plt.ylabel('Overall')\n",
    "plt.show()"
   ]
  },
  {
   "cell_type": "markdown",
   "metadata": {},
   "source": [
    "## Distribution by Age"
   ]
  },
  {
   "cell_type": "code",
   "execution_count": null,
   "metadata": {},
   "outputs": [],
   "source": [
    "clubs=('CD Leganés','Newcastle United','Cardiff City','Everton','TSG 1899 Hoffenheim','Southampton',\n",
    "      'Tottenham Hotspur','Valencia CF','Wolverhampton Wanderers')\n",
    "df_club=player_data.loc[player_data['Club'].isin(clubs) & player_data['Age']]\n",
    "\n",
    "plt.figure(figsize=(14,6))\n",
    "sns.lineplot(x=df_club['Club'],y=df_club['Age'],palette='plasma')\n",
    "plt.xticks(rotation=90)\n",
    "plt.title('Club vs Age')\n",
    "plt.xlabel('Club')\n",
    "plt.ylabel('Age')\n",
    "plt.show()"
   ]
  },
  {
   "cell_type": "markdown",
   "metadata": {},
   "source": [
    "## Distribution by Potential Scores"
   ]
  },
  {
   "cell_type": "code",
   "execution_count": null,
   "metadata": {},
   "outputs": [],
   "source": [
    "clubs=('CD Leganés','Newcastle United','Cardiff City','Everton','TSG 1899 Hoffenheim','Southampton',\n",
    "      'Tottenham Hotspur','Valencia CF','Wolverhampton Wanderers')\n",
    "df_club=df.loc[df['Club'].isin(clubs) & df['Potential']]\n",
    "\n",
    "plt.figure(figsize=(14,6))\n",
    "sns.barplot(x=df_club['Club'],y=df_club['Potential'],palette='twilight')\n",
    "plt.xticks(rotation=90)\n",
    "plt.title('Club vs Potential')\n",
    "plt.xlabel('Club')\n",
    "plt.ylabel('Potential')\n",
    "plt.show()"
   ]
  },
  {
   "cell_type": "markdown",
   "metadata": {},
   "source": [
    "# Distribution by Skill Set"
   ]
  },
  {
   "cell_type": "markdown",
   "metadata": {},
   "source": [
    "## CLub vs Technical SKill"
   ]
  },
  {
   "cell_type": "code",
   "execution_count": null,
   "metadata": {},
   "outputs": [],
   "source": [
    "clubs=('CD Leganés','Newcastle United','Cardiff City','Everton','TSG 1899 Hoffenheim','Southampton',\n",
    "      'Tottenham Hotspur','Valencia CF','Wolverhampton Wanderers')\n",
    "df_club=player_data.loc[player_data['Club'].isin(clubs) & player_data['Technical']]\n",
    "\n",
    "plt.figure(figsize=(14,6))\n",
    "sns.boxplot(x=df_club['Club'],y=df_club['Technical'],palette='twilight')\n",
    "plt.xticks(rotation=90)\n",
    "plt.title('Club vs Technical Skills')\n",
    "plt.xlabel('Club')\n",
    "plt.ylabel('Technical Skills')\n",
    "plt.show()"
   ]
  },
  {
   "cell_type": "markdown",
   "metadata": {},
   "source": [
    "## CLub vs Mental SKill"
   ]
  },
  {
   "cell_type": "code",
   "execution_count": null,
   "metadata": {},
   "outputs": [],
   "source": [
    "clubs=('CD Leganés','Newcastle United','Cardiff City','Everton','TSG 1899 Hoffenheim','Southampton',\n",
    "      'Tottenham Hotspur','Valencia CF','Wolverhampton Wanderers')\n",
    "df_club=player_data.loc[player_data['Club'].isin(clubs) & player_data['Mental']]\n",
    "\n",
    "plt.figure(figsize=(14,6))\n",
    "sns.boxplot(x=df_club['Club'],y=df_club['Mental'],palette='plasma')\n",
    "plt.xticks(rotation=90)\n",
    "plt.title('Club vs Mental Skills')\n",
    "plt.xlabel('Club')\n",
    "plt.ylabel('Mental Skills')\n",
    "plt.show()"
   ]
  },
  {
   "cell_type": "markdown",
   "metadata": {},
   "source": [
    "## CLub vs Physical SKill"
   ]
  },
  {
   "cell_type": "code",
   "execution_count": null,
   "metadata": {},
   "outputs": [],
   "source": [
    "clubs=('CD Leganés','Newcastle United','Cardiff City','Everton','TSG 1899 Hoffenheim','Southampton',\n",
    "      'Tottenham Hotspur','Valencia CF','Wolverhampton Wanderers')\n",
    "df_club=player_data.loc[player_data['Club'].isin(clubs) & player_data['Physical']]\n",
    "\n",
    "plt.figure(figsize=(14,6))\n",
    "sns.boxplot(x=df_club['Club'],y=df_club['Physical'],palette='plasma')\n",
    "plt.xticks(rotation=90)\n",
    "plt.title('Club vs Physical Skills')\n",
    "plt.xlabel('Club')\n",
    "plt.ylabel('Physical Skills')\n",
    "plt.show()"
   ]
  },
  {
   "cell_type": "markdown",
   "metadata": {},
   "source": [
    "## Wage distribution of the top 10 clubs"
   ]
  },
  {
   "cell_type": "code",
   "execution_count": null,
   "metadata": {},
   "outputs": [],
   "source": [
    "clubs=('CD Leganés','Newcastle United','Cardiff City','Everton','TSG 1899 Hoffenheim','Southampton',\n",
    "      'Tottenham Hotspur','Valencia CF','Wolverhampton Wanderers')\n",
    "df_club=player_data.loc[player_data['Club'].isin(clubs) & player_data['Wage']]\n",
    "\n",
    "plt.figure(figsize=(14,6))\n",
    "sns.violinplot(x=df_club['Club'],y=df_club['Wage'],palette='coolwarm')\n",
    "plt.xticks(rotation=90)\n",
    "plt.title('Club vs Wage')\n",
    "plt.xlabel('Club')\n",
    "plt.ylabel('Wage')\n",
    "plt.show()"
   ]
  },
  {
   "cell_type": "markdown",
   "metadata": {},
   "source": [
    "# Defining features of players"
   ]
  },
  {
   "cell_type": "code",
   "execution_count": null,
   "metadata": {},
   "outputs": [],
   "source": [
    "player_features = ('Acceleration', 'Aggression', 'Agility', \n",
    "                   'Balance', 'BallControl', 'Composure', \n",
    "                   'Crossing', 'Dribbling', 'FKAccuracy', \n",
    "                   'Finishing', 'GKDiving', 'GKHandling', \n",
    "                   'GKKicking', 'GKPositioning', 'GKReflexes', \n",
    "                   'HeadingAccuracy', 'Interceptions', 'Jumping', \n",
    "                   'LongPassing', 'LongShots', 'Marking', 'Penalties')"
   ]
  },
  {
   "cell_type": "markdown",
   "metadata": {},
   "source": [
    "# Spider Plot"
   ]
  },
  {
   "cell_type": "code",
   "execution_count": null,
   "metadata": {
    "_kg_hide-output": false
   },
   "outputs": [],
   "source": [
    "from math import pi\n",
    "\n",
    "idx = 1\n",
    "plt.figure(figsize=(15,45))\n",
    "for position_name, features in df.groupby(df['Position'])[player_features].mean().iterrows():\n",
    "    top_features = dict(features.nlargest(5))\n",
    "    \n",
    "    # number of variable\n",
    "    categories=top_features.keys()\n",
    "    N = len(categories)\n",
    "\n",
    "    # We are going to plot the first line of the data frame.\n",
    "    # But we need to repeat the first value to close the circular graph:\n",
    "    values = list(top_features.values())\n",
    "    values += values[:1]\n",
    "\n",
    "    # What will be the angle of each axis in the plot? (we divide the plot / number of variable)\n",
    "    angles = [n / float(N) * 2 * pi for n in range(N)]\n",
    "    angles += angles[:1]\n",
    "\n",
    "    # Initialise the spider plot\n",
    "    ax = plt.subplot(9, 3, idx, polar=True)\n",
    "\n",
    "    # Draw one axe per variable + add labels labels yet\n",
    "    plt.xticks(angles[:-1], categories, color='grey', size=8)\n",
    "\n",
    "    # Draw ylabels\n",
    "    ax.set_rlabel_position(0)\n",
    "    plt.yticks([25,50,75], [\"25\",\"50\",\"75\"], color=\"grey\", size=7)\n",
    "    plt.ylim(0,100)\n",
    "    \n",
    "    plt.subplots_adjust(hspace = 0.5)\n",
    "    \n",
    "    # Plot data\n",
    "    ax.plot(angles, values, linewidth=1, linestyle='solid')\n",
    "\n",
    "    # Fill area\n",
    "    ax.fill(angles, values, 'b', alpha=0.1)\n",
    "    \n",
    "    plt.title(position_name, size=11, y=1.1)\n",
    "    \n",
    "    idx += 1 "
   ]
  },
  {
   "cell_type": "markdown",
   "metadata": {},
   "source": [
    "# This is one of my most detailed work\n",
    "\n",
    "### Please do upvote if you like it and do comment if and suggestion/Improvements"
   ]
  }
 ],
 "metadata": {
  "kernelspec": {
   "display_name": "Python 3",
   "language": "python",
   "name": "python3"
  },
  "language_info": {
   "codemirror_mode": {
    "name": "ipython",
    "version": 3
   },
   "file_extension": ".py",
   "mimetype": "text/x-python",
   "name": "python",
   "nbconvert_exporter": "python",
   "pygments_lexer": "ipython3",
   "version": "3.7.4"
  }
 },
 "nbformat": 4,
 "nbformat_minor": 4
}
